{
  "nbformat": 4,
  "nbformat_minor": 0,
  "metadata": {
    "colab": {
      "provenance": [],
      "mount_file_id": "1tYBrR6lPlpb6B52h4RKjKXzk30wtDaV5",
      "authorship_tag": "ABX9TyNfxc2INPVs13AvsaqVioXt",
      "include_colab_link": true
    },
    "kernelspec": {
      "name": "python3",
      "display_name": "Python 3"
    },
    "language_info": {
      "name": "python"
    }
  },
  "cells": [
    {
      "cell_type": "markdown",
      "metadata": {
        "id": "view-in-github",
        "colab_type": "text"
      },
      "source": [
        "<a href=\"https://colab.research.google.com/github/ashwaj15/STOCK-MARKET-PREDICTION/blob/main/STOCK_MARKET_PREDICTION_ipyb.ipynb\" target=\"_parent\"><img src=\"https://colab.research.google.com/assets/colab-badge.svg\" alt=\"Open In Colab\"/></a>"
      ]
    },
    {
      "cell_type": "markdown",
      "source": [
        "# **Stock Market Prediction Using Long Short-Term Memory (LSTM)**\n",
        "\n",
        "---\n",
        "\n"
      ],
      "metadata": {
        "id": "yCsVHe4yfbdq"
      }
    },
    {
      "cell_type": "markdown",
      "source": [
        "* Stock market prediction and forecasting using Stacked LSTM (Long Short-Term Memory) is a popular technique in the field of time series forecasting.\n",
        "\n",
        "* LSTM is a type of recurrent neural network (RNN) architecture that has been shown to perform well in modeling sequential data such as time series. Stacked LSTM refers to the use of multiple LSTM layers stacked on top of each other.\n",
        "\n",
        "* The process of using stacked LSTM for stock market prediction involves training the model on historical stock market data, which includes factors such as prices, volumes, and other indicators. The model learns the patterns and trends in the data and uses this knowledge to make predictions about future prices.\n",
        "\n",
        "* The input to the model is typically a sequence of historical data points, and the output is a predicted future value or sequence of values. The model is trained using backpropagation through time (BPTT) and the loss function is typically mean squared error (MSE) or mean absolute error (MAE).\n",
        "\n",
        "* Overall, stacked LSTM has been shown to be an effective technique for stock market prediction and forecasting, and is commonly used in the finance industry for decision making. However, it is important to note that no model can provide perfect predictions and forecasting, and it is important to always consider multiple factors and sources of information when making financial decisions.\n",
        "\n",
        "\n",
        "\n",
        "\n",
        "\n"
      ],
      "metadata": {
        "id": "P78hGYz4gDdi"
      }
    },
    {
      "cell_type": "markdown",
      "source": [
        "\n",
        "\n",
        "---\n",
        "\n",
        "\n",
        "## **1. Importing libraries**\n",
        "\n",
        "---\n",
        "\n"
      ],
      "metadata": {
        "id": "ltMSuyGN1Kyg"
      }
    },
    {
      "cell_type": "code",
      "source": [
        "import numpy as np \n",
        "import pandas as pd \n",
        "\n",
        "import os\n",
        "for dirname, _, filenames in os.walk('/kaggle/input'):\n",
        "    for filename in filenames:\n",
        "        print(os.path.join(dirname, filename))"
      ],
      "metadata": {
        "id": "vGARZQ4-uDkg"
      },
      "execution_count": 45,
      "outputs": []
    },
    {
      "cell_type": "code",
      "source": [
        "!unzip /content/drive/MyDrive/dataset/archive\\ \\(3\\).zip -d /content/dataset\n"
      ],
      "metadata": {
        "id": "9tFcwuUFyg-E"
      },
      "execution_count": null,
      "outputs": []
    },
    {
      "cell_type": "markdown",
      "source": [
        "\n",
        "\n",
        "---\n",
        "\n",
        "\n",
        "## **2. Loading the Data**\n",
        "\n",
        "---\n",
        "\n",
        "\n"
      ],
      "metadata": {
        "id": "wVINILj11s8A"
      }
    },
    {
      "cell_type": "code",
      "source": [
        "import pandas as pd\n",
        "\n",
        "df = pd.read_csv('/content/dataset/ASIANPAINT.csv')\n",
        "df.head()\n"
      ],
      "metadata": {
        "colab": {
          "base_uri": "https://localhost:8080/",
          "height": 206
        },
        "id": "0kMljWSeufFe",
        "outputId": "1292d8d4-b18e-4018-a87f-aa070cd1b829"
      },
      "execution_count": 46,
      "outputs": [
        {
          "output_type": "execute_result",
          "data": {
            "text/plain": [
              "         Date      Symbol Series  Prev Close   Open   High    Low   Last  \\\n",
              "0  2000-01-03  ASIANPAINT     EQ      361.20  370.0  390.0  370.0  385.0   \n",
              "1  2000-01-04  ASIANPAINT     EQ      381.65  380.0  392.0  375.0  390.0   \n",
              "2  2000-01-05  ASIANPAINT     EQ      385.55  371.5  390.0  371.5  383.0   \n",
              "3  2000-01-06  ASIANPAINT     EQ      383.00  384.9  384.9  374.5  375.1   \n",
              "4  2000-01-07  ASIANPAINT     EQ      377.50  376.0  390.0  370.0  389.0   \n",
              "\n",
              "    Close    VWAP  Volume      Turnover  Trades  Deliverable Volume  \\\n",
              "0  381.65  380.54    3318  1.262617e+11     NaN                 NaN   \n",
              "1  385.55  383.50    4818  1.847699e+11     NaN                 NaN   \n",
              "2  383.00  379.81    2628  9.981384e+10     NaN                 NaN   \n",
              "3  377.50  379.88    3354  1.274114e+11     NaN                 NaN   \n",
              "4  385.70  383.38    9589  3.676275e+11     NaN                 NaN   \n",
              "\n",
              "   %Deliverble  \n",
              "0          NaN  \n",
              "1          NaN  \n",
              "2          NaN  \n",
              "3          NaN  \n",
              "4          NaN  "
            ],
            "text/html": [
              "\n",
              "  <div id=\"df-3501ae7b-c25e-44af-bb9e-1ddfdaccfaf1\">\n",
              "    <div class=\"colab-df-container\">\n",
              "      <div>\n",
              "<style scoped>\n",
              "    .dataframe tbody tr th:only-of-type {\n",
              "        vertical-align: middle;\n",
              "    }\n",
              "\n",
              "    .dataframe tbody tr th {\n",
              "        vertical-align: top;\n",
              "    }\n",
              "\n",
              "    .dataframe thead th {\n",
              "        text-align: right;\n",
              "    }\n",
              "</style>\n",
              "<table border=\"1\" class=\"dataframe\">\n",
              "  <thead>\n",
              "    <tr style=\"text-align: right;\">\n",
              "      <th></th>\n",
              "      <th>Date</th>\n",
              "      <th>Symbol</th>\n",
              "      <th>Series</th>\n",
              "      <th>Prev Close</th>\n",
              "      <th>Open</th>\n",
              "      <th>High</th>\n",
              "      <th>Low</th>\n",
              "      <th>Last</th>\n",
              "      <th>Close</th>\n",
              "      <th>VWAP</th>\n",
              "      <th>Volume</th>\n",
              "      <th>Turnover</th>\n",
              "      <th>Trades</th>\n",
              "      <th>Deliverable Volume</th>\n",
              "      <th>%Deliverble</th>\n",
              "    </tr>\n",
              "  </thead>\n",
              "  <tbody>\n",
              "    <tr>\n",
              "      <th>0</th>\n",
              "      <td>2000-01-03</td>\n",
              "      <td>ASIANPAINT</td>\n",
              "      <td>EQ</td>\n",
              "      <td>361.20</td>\n",
              "      <td>370.0</td>\n",
              "      <td>390.0</td>\n",
              "      <td>370.0</td>\n",
              "      <td>385.0</td>\n",
              "      <td>381.65</td>\n",
              "      <td>380.54</td>\n",
              "      <td>3318</td>\n",
              "      <td>1.262617e+11</td>\n",
              "      <td>NaN</td>\n",
              "      <td>NaN</td>\n",
              "      <td>NaN</td>\n",
              "    </tr>\n",
              "    <tr>\n",
              "      <th>1</th>\n",
              "      <td>2000-01-04</td>\n",
              "      <td>ASIANPAINT</td>\n",
              "      <td>EQ</td>\n",
              "      <td>381.65</td>\n",
              "      <td>380.0</td>\n",
              "      <td>392.0</td>\n",
              "      <td>375.0</td>\n",
              "      <td>390.0</td>\n",
              "      <td>385.55</td>\n",
              "      <td>383.50</td>\n",
              "      <td>4818</td>\n",
              "      <td>1.847699e+11</td>\n",
              "      <td>NaN</td>\n",
              "      <td>NaN</td>\n",
              "      <td>NaN</td>\n",
              "    </tr>\n",
              "    <tr>\n",
              "      <th>2</th>\n",
              "      <td>2000-01-05</td>\n",
              "      <td>ASIANPAINT</td>\n",
              "      <td>EQ</td>\n",
              "      <td>385.55</td>\n",
              "      <td>371.5</td>\n",
              "      <td>390.0</td>\n",
              "      <td>371.5</td>\n",
              "      <td>383.0</td>\n",
              "      <td>383.00</td>\n",
              "      <td>379.81</td>\n",
              "      <td>2628</td>\n",
              "      <td>9.981384e+10</td>\n",
              "      <td>NaN</td>\n",
              "      <td>NaN</td>\n",
              "      <td>NaN</td>\n",
              "    </tr>\n",
              "    <tr>\n",
              "      <th>3</th>\n",
              "      <td>2000-01-06</td>\n",
              "      <td>ASIANPAINT</td>\n",
              "      <td>EQ</td>\n",
              "      <td>383.00</td>\n",
              "      <td>384.9</td>\n",
              "      <td>384.9</td>\n",
              "      <td>374.5</td>\n",
              "      <td>375.1</td>\n",
              "      <td>377.50</td>\n",
              "      <td>379.88</td>\n",
              "      <td>3354</td>\n",
              "      <td>1.274114e+11</td>\n",
              "      <td>NaN</td>\n",
              "      <td>NaN</td>\n",
              "      <td>NaN</td>\n",
              "    </tr>\n",
              "    <tr>\n",
              "      <th>4</th>\n",
              "      <td>2000-01-07</td>\n",
              "      <td>ASIANPAINT</td>\n",
              "      <td>EQ</td>\n",
              "      <td>377.50</td>\n",
              "      <td>376.0</td>\n",
              "      <td>390.0</td>\n",
              "      <td>370.0</td>\n",
              "      <td>389.0</td>\n",
              "      <td>385.70</td>\n",
              "      <td>383.38</td>\n",
              "      <td>9589</td>\n",
              "      <td>3.676275e+11</td>\n",
              "      <td>NaN</td>\n",
              "      <td>NaN</td>\n",
              "      <td>NaN</td>\n",
              "    </tr>\n",
              "  </tbody>\n",
              "</table>\n",
              "</div>\n",
              "      <button class=\"colab-df-convert\" onclick=\"convertToInteractive('df-3501ae7b-c25e-44af-bb9e-1ddfdaccfaf1')\"\n",
              "              title=\"Convert this dataframe to an interactive table.\"\n",
              "              style=\"display:none;\">\n",
              "        \n",
              "  <svg xmlns=\"http://www.w3.org/2000/svg\" height=\"24px\"viewBox=\"0 0 24 24\"\n",
              "       width=\"24px\">\n",
              "    <path d=\"M0 0h24v24H0V0z\" fill=\"none\"/>\n",
              "    <path d=\"M18.56 5.44l.94 2.06.94-2.06 2.06-.94-2.06-.94-.94-2.06-.94 2.06-2.06.94zm-11 1L8.5 8.5l.94-2.06 2.06-.94-2.06-.94L8.5 2.5l-.94 2.06-2.06.94zm10 10l.94 2.06.94-2.06 2.06-.94-2.06-.94-.94-2.06-.94 2.06-2.06.94z\"/><path d=\"M17.41 7.96l-1.37-1.37c-.4-.4-.92-.59-1.43-.59-.52 0-1.04.2-1.43.59L10.3 9.45l-7.72 7.72c-.78.78-.78 2.05 0 2.83L4 21.41c.39.39.9.59 1.41.59.51 0 1.02-.2 1.41-.59l7.78-7.78 2.81-2.81c.8-.78.8-2.07 0-2.86zM5.41 20L4 18.59l7.72-7.72 1.47 1.35L5.41 20z\"/>\n",
              "  </svg>\n",
              "      </button>\n",
              "      \n",
              "  <style>\n",
              "    .colab-df-container {\n",
              "      display:flex;\n",
              "      flex-wrap:wrap;\n",
              "      gap: 12px;\n",
              "    }\n",
              "\n",
              "    .colab-df-convert {\n",
              "      background-color: #E8F0FE;\n",
              "      border: none;\n",
              "      border-radius: 50%;\n",
              "      cursor: pointer;\n",
              "      display: none;\n",
              "      fill: #1967D2;\n",
              "      height: 32px;\n",
              "      padding: 0 0 0 0;\n",
              "      width: 32px;\n",
              "    }\n",
              "\n",
              "    .colab-df-convert:hover {\n",
              "      background-color: #E2EBFA;\n",
              "      box-shadow: 0px 1px 2px rgba(60, 64, 67, 0.3), 0px 1px 3px 1px rgba(60, 64, 67, 0.15);\n",
              "      fill: #174EA6;\n",
              "    }\n",
              "\n",
              "    [theme=dark] .colab-df-convert {\n",
              "      background-color: #3B4455;\n",
              "      fill: #D2E3FC;\n",
              "    }\n",
              "\n",
              "    [theme=dark] .colab-df-convert:hover {\n",
              "      background-color: #434B5C;\n",
              "      box-shadow: 0px 1px 3px 1px rgba(0, 0, 0, 0.15);\n",
              "      filter: drop-shadow(0px 1px 2px rgba(0, 0, 0, 0.3));\n",
              "      fill: #FFFFFF;\n",
              "    }\n",
              "  </style>\n",
              "\n",
              "      <script>\n",
              "        const buttonEl =\n",
              "          document.querySelector('#df-3501ae7b-c25e-44af-bb9e-1ddfdaccfaf1 button.colab-df-convert');\n",
              "        buttonEl.style.display =\n",
              "          google.colab.kernel.accessAllowed ? 'block' : 'none';\n",
              "\n",
              "        async function convertToInteractive(key) {\n",
              "          const element = document.querySelector('#df-3501ae7b-c25e-44af-bb9e-1ddfdaccfaf1');\n",
              "          const dataTable =\n",
              "            await google.colab.kernel.invokeFunction('convertToInteractive',\n",
              "                                                     [key], {});\n",
              "          if (!dataTable) return;\n",
              "\n",
              "          const docLinkHtml = 'Like what you see? Visit the ' +\n",
              "            '<a target=\"_blank\" href=https://colab.research.google.com/notebooks/data_table.ipynb>data table notebook</a>'\n",
              "            + ' to learn more about interactive tables.';\n",
              "          element.innerHTML = '';\n",
              "          dataTable['output_type'] = 'display_data';\n",
              "          await google.colab.output.renderOutput(dataTable, element);\n",
              "          const docLink = document.createElement('div');\n",
              "          docLink.innerHTML = docLinkHtml;\n",
              "          element.appendChild(docLink);\n",
              "        }\n",
              "      </script>\n",
              "    </div>\n",
              "  </div>\n",
              "  "
            ]
          },
          "metadata": {},
          "execution_count": 46
        }
      ]
    },
    {
      "cell_type": "code",
      "source": [
        "df['VWAP'].plot()"
      ],
      "metadata": {
        "colab": {
          "base_uri": "https://localhost:8080/",
          "height": 447
        },
        "id": "dpy16ddey5wp",
        "outputId": "92be3bde-7e40-47e2-e23c-82208aed48ba"
      },
      "execution_count": 47,
      "outputs": [
        {
          "output_type": "execute_result",
          "data": {
            "text/plain": [
              "<Axes: >"
            ]
          },
          "metadata": {},
          "execution_count": 47
        },
        {
          "output_type": "display_data",
          "data": {
            "text/plain": [
              "<Figure size 640x480 with 1 Axes>"
            ],
            "image/png": "[encoded data removed]"
          },
          "metadata": {}
        }
      ]
    },
    {
      "cell_type": "markdown",
      "source": [
        "\n",
        "\n",
        "---\n",
        "\n",
        "\n",
        "## **3. Set target variables & features**\n",
        "\n",
        "---\n",
        "\n"
      ],
      "metadata": {
        "id": "C8IZxXNd19K_"
      }
    },
    {
      "cell_type": "code",
      "source": [
        "output_var = pd.DataFrame(df['VWAP'])\n",
        "\n",
        "features = ['Open', 'High', 'Low', 'Volume']"
      ],
      "metadata": {
        "id": "_OPEELTmzgSL"
      },
      "execution_count": 48,
      "outputs": []
    },
    {
      "cell_type": "markdown",
      "source": [
        "\n",
        "\n",
        "---\n",
        "\n",
        "\n",
        "## **4. Scaling**\n",
        "\n",
        "---\n",
        "\n"
      ],
      "metadata": {
        "id": "a35zsxW52D6b"
      }
    },
    {
      "cell_type": "code",
      "source": [
        "from sklearn.preprocessing import MinMaxScaler\n",
        "scaler = MinMaxScaler()\n",
        "feature_transform = scaler.fit_transform(df[features])\n",
        "feature_transform= pd.DataFrame(columns=features, data=feature_transform, index=df.index)\n",
        "feature_transform.head()"
      ],
      "metadata": {
        "colab": {
          "base_uri": "https://localhost:8080/",
          "height": 206
        },
        "id": "9ERhfHt0zta1",
        "outputId": "efeb5a7a-5266-46e1-d025-4a4f4dc46be3"
      },
      "execution_count": 49,
      "outputs": [
        {
          "output_type": "execute_result",
          "data": {
            "text/plain": [
              "       Open      High       Low    Volume\n",
              "0  0.031929  0.034628  0.033562  0.000285\n",
              "1  0.033925  0.035026  0.034573  0.000415\n",
              "2  0.032228  0.034628  0.033865  0.000225\n",
              "3  0.034903  0.033615  0.034472  0.000288\n",
              "4  0.033126  0.034628  0.033562  0.000828"
            ],
            "text/html": [
              "\n",
              "  <div id=\"df-f1031a24-8151-467d-81a2-fc227c6182aa\">\n",
              "    <div class=\"colab-df-container\">\n",
              "      <div>\n",
              "<style scoped>\n",
              "    .dataframe tbody tr th:only-of-type {\n",
              "        vertical-align: middle;\n",
              "    }\n",
              "\n",
              "    .dataframe tbody tr th {\n",
              "        vertical-align: top;\n",
              "    }\n",
              "\n",
              "    .dataframe thead th {\n",
              "        text-align: right;\n",
              "    }\n",
              "</style>\n",
              "<table border=\"1\" class=\"dataframe\">\n",
              "  <thead>\n",
              "    <tr style=\"text-align: right;\">\n",
              "      <th></th>\n",
              "      <th>Open</th>\n",
              "      <th>High</th>\n",
              "      <th>Low</th>\n",
              "      <th>Volume</th>\n",
              "    </tr>\n",
              "  </thead>\n",
              "  <tbody>\n",
              "    <tr>\n",
              "      <th>0</th>\n",
              "      <td>0.031929</td>\n",
              "      <td>0.034628</td>\n",
              "      <td>0.033562</td>\n",
              "      <td>0.000285</td>\n",
              "    </tr>\n",
              "    <tr>\n",
              "      <th>1</th>\n",
              "      <td>0.033925</td>\n",
              "      <td>0.035026</td>\n",
              "      <td>0.034573</td>\n",
              "      <td>0.000415</td>\n",
              "    </tr>\n",
              "    <tr>\n",
              "      <th>2</th>\n",
              "      <td>0.032228</td>\n",
              "      <td>0.034628</td>\n",
              "      <td>0.033865</td>\n",
              "      <td>0.000225</td>\n",
              "    </tr>\n",
              "    <tr>\n",
              "      <th>3</th>\n",
              "      <td>0.034903</td>\n",
              "      <td>0.033615</td>\n",
              "      <td>0.034472</td>\n",
              "      <td>0.000288</td>\n",
              "    </tr>\n",
              "    <tr>\n",
              "      <th>4</th>\n",
              "      <td>0.033126</td>\n",
              "      <td>0.034628</td>\n",
              "      <td>0.033562</td>\n",
              "      <td>0.000828</td>\n",
              "    </tr>\n",
              "  </tbody>\n",
              "</table>\n",
              "</div>\n",
              "      <button class=\"colab-df-convert\" onclick=\"convertToInteractive('df-f1031a24-8151-467d-81a2-fc227c6182aa')\"\n",
              "              title=\"Convert this dataframe to an interactive table.\"\n",
              "              style=\"display:none;\">\n",
              "        \n",
              "  <svg xmlns=\"http://www.w3.org/2000/svg\" height=\"24px\"viewBox=\"0 0 24 24\"\n",
              "       width=\"24px\">\n",
              "    <path d=\"M0 0h24v24H0V0z\" fill=\"none\"/>\n",
              "    <path d=\"M18.56 5.44l.94 2.06.94-2.06 2.06-.94-2.06-.94-.94-2.06-.94 2.06-2.06.94zm-11 1L8.5 8.5l.94-2.06 2.06-.94-2.06-.94L8.5 2.5l-.94 2.06-2.06.94zm10 10l.94 2.06.94-2.06 2.06-.94-2.06-.94-.94-2.06-.94 2.06-2.06.94z\"/><path d=\"M17.41 7.96l-1.37-1.37c-.4-.4-.92-.59-1.43-.59-.52 0-1.04.2-1.43.59L10.3 9.45l-7.72 7.72c-.78.78-.78 2.05 0 2.83L4 21.41c.39.39.9.59 1.41.59.51 0 1.02-.2 1.41-.59l7.78-7.78 2.81-2.81c.8-.78.8-2.07 0-2.86zM5.41 20L4 18.59l7.72-7.72 1.47 1.35L5.41 20z\"/>\n",
              "  </svg>\n",
              "      </button>\n",
              "      \n",
              "  <style>\n",
              "    .colab-df-container {\n",
              "      display:flex;\n",
              "      flex-wrap:wrap;\n",
              "      gap: 12px;\n",
              "    }\n",
              "\n",
              "    .colab-df-convert {\n",
              "      background-color: #E8F0FE;\n",
              "      border: none;\n",
              "      border-radius: 50%;\n",
              "      cursor: pointer;\n",
              "      display: none;\n",
              "      fill: #1967D2;\n",
              "      height: 32px;\n",
              "      padding: 0 0 0 0;\n",
              "      width: 32px;\n",
              "    }\n",
              "\n",
              "    .colab-df-convert:hover {\n",
              "      background-color: #E2EBFA;\n",
              "      box-shadow: 0px 1px 2px rgba(60, 64, 67, 0.3), 0px 1px 3px 1px rgba(60, 64, 67, 0.15);\n",
              "      fill: #174EA6;\n",
              "    }\n",
              "\n",
              "    [theme=dark] .colab-df-convert {\n",
              "      background-color: #3B4455;\n",
              "      fill: #D2E3FC;\n",
              "    }\n",
              "\n",
              "    [theme=dark] .colab-df-convert:hover {\n",
              "      background-color: #434B5C;\n",
              "      box-shadow: 0px 1px 3px 1px rgba(0, 0, 0, 0.15);\n",
              "      filter: drop-shadow(0px 1px 2px rgba(0, 0, 0, 0.3));\n",
              "      fill: #FFFFFF;\n",
              "    }\n",
              "  </style>\n",
              "\n",
              "      <script>\n",
              "        const buttonEl =\n",
              "          document.querySelector('#df-f1031a24-8151-467d-81a2-fc227c6182aa button.colab-df-convert');\n",
              "        buttonEl.style.display =\n",
              "          google.colab.kernel.accessAllowed ? 'block' : 'none';\n",
              "\n",
              "        async function convertToInteractive(key) {\n",
              "          const element = document.querySelector('#df-f1031a24-8151-467d-81a2-fc227c6182aa');\n",
              "          const dataTable =\n",
              "            await google.colab.kernel.invokeFunction('convertToInteractive',\n",
              "                                                     [key], {});\n",
              "          if (!dataTable) return;\n",
              "\n",
              "          const docLinkHtml = 'Like what you see? Visit the ' +\n",
              "            '<a target=\"_blank\" href=https://colab.research.google.com/notebooks/data_table.ipynb>data table notebook</a>'\n",
              "            + ' to learn more about interactive tables.';\n",
              "          element.innerHTML = '';\n",
              "          dataTable['output_type'] = 'display_data';\n",
              "          await google.colab.output.renderOutput(dataTable, element);\n",
              "          const docLink = document.createElement('div');\n",
              "          docLink.innerHTML = docLinkHtml;\n",
              "          element.appendChild(docLink);\n",
              "        }\n",
              "      </script>\n",
              "    </div>\n",
              "  </div>\n",
              "  "
            ]
          },
          "metadata": {},
          "execution_count": 49
        }
      ]
    },
    {
      "cell_type": "code",
      "source": [
        "feature_transform.shape"
      ],
      "metadata": {
        "colab": {
          "base_uri": "https://localhost:8080/"
        },
        "id": "NngZTJ6lzxqD",
        "outputId": "f23c4522-9634-4f79-9c22-688d8b2becc6"
      },
      "execution_count": 50,
      "outputs": [
        {
          "output_type": "execute_result",
          "data": {
            "text/plain": [
              "(5306, 4)"
            ]
          },
          "metadata": {},
          "execution_count": 50
        }
      ]
    },
    {
      "cell_type": "markdown",
      "source": [
        "\n",
        "\n",
        "---\n",
        "\n",
        "\n",
        "## **5. Train and Test Split**\n",
        "\n",
        "---\n",
        "\n"
      ],
      "metadata": {
        "id": "whL6AoDN2XvJ"
      }
    },
    {
      "cell_type": "code",
      "source": [
        "from sklearn.model_selection import TimeSeriesSplit\n",
        "\n",
        "timesplit= TimeSeriesSplit(n_splits=10) \n",
        "for train_index, test_index in timesplit.split(feature_transform):\n",
        "        X_train, X_test = feature_transform[:len(train_index)], feature_transform[len(train_index): (len(train_index)+len(test_index))]\n",
        "        y_train, y_test = output_var[:len(train_index)].values.ravel(), output_var[len(train_index): (len(train_index)+len(test_index))].values.ravel()"
      ],
      "metadata": {
        "id": "E562-6jtz9D0"
      },
      "execution_count": 51,
      "outputs": []
    },
    {
      "cell_type": "code",
      "source": [
        "print(X_train.shape)\n",
        "print(X_test.shape)"
      ],
      "metadata": {
        "colab": {
          "base_uri": "https://localhost:8080/"
        },
        "id": "VnDaArQr0F4s",
        "outputId": "f1add675-c113-42a8-bb5c-3d142263386e"
      },
      "execution_count": 52,
      "outputs": [
        {
          "output_type": "stream",
          "name": "stdout",
          "text": [
            "(4824, 4)\n",
            "(482, 4)\n"
          ]
        }
      ]
    },
    {
      "cell_type": "markdown",
      "source": [
        "\n",
        "\n",
        "---\n",
        "\n",
        "\n",
        "## **6. Data Processing For LSTM**\n",
        "\n",
        "---\n",
        "\n"
      ],
      "metadata": {
        "id": "twbVSyzp2iKt"
      }
    },
    {
      "cell_type": "code",
      "source": [
        "trainX =np.array(X_train)\n",
        "testX =np.array(X_test)\n",
        "X_train = trainX.reshape(X_train.shape[0], 1, X_train.shape[1])\n",
        "X_test = testX.reshape(X_test.shape[0], 1, X_test.shape[1])\n",
        "print(X_train.shape)\n",
        "print(X_test.shape)"
      ],
      "metadata": {
        "colab": {
          "base_uri": "https://localhost:8080/"
        },
        "id": "gYUwuDXb0Jn3",
        "outputId": "45b79142-0bbb-42a7-9654-de8e4ee7789b"
      },
      "execution_count": 53,
      "outputs": [
        {
          "output_type": "stream",
          "name": "stdout",
          "text": [
            "(4824, 1, 4)\n",
            "(482, 1, 4)\n"
          ]
        }
      ]
    },
    {
      "cell_type": "markdown",
      "source": [
        "\n",
        "\n",
        "---\n",
        "\n",
        "\n",
        "## **7. Building the LSTM Model for Stock Market Prediction**\n",
        "\n",
        "---\n",
        "\n",
        "\n"
      ],
      "metadata": {
        "id": "QE1dxGkr20Gm"
      }
    },
    {
      "cell_type": "code",
      "source": [
        "import tensorflow as tf\n",
        "lstm = tf.keras.Sequential()\n",
        "lstm.add(tf.keras.layers.LSTM(32, input_shape=(1, trainX.shape[1]), activation='relu', return_sequences=False))\n",
        "lstm.add(tf.keras.layers.Dense(1))\n",
        "lstm.compile(loss='mean_squared_error', optimizer='adam')\n",
        "tf.keras.utils.plot_model(lstm, show_shapes=True, show_layer_names=True)\n"
      ],
      "metadata": {
        "colab": {
          "base_uri": "https://localhost:8080/",
          "height": 312
        },
        "id": "89NZsVfJ0M5g",
        "outputId": "5aaf35b2-fb4b-4096-a72d-ef777fddfd4f"
      },
      "execution_count": 43,
      "outputs": [
        {
          "output_type": "execute_result",
          "data": {
            "image/png": "[encoded data removed]",
            "text/plain": [
              "<IPython.core.display.Image object>"
            ]
          },
          "metadata": {},
          "execution_count": 43
        }
      ]
    },
    {
      "cell_type": "markdown",
      "source": [
        "\n",
        "\n",
        "---\n",
        "\n",
        "\n",
        "## **8. Model Training**\n",
        "\n",
        "---\n",
        "\n"
      ],
      "metadata": {
        "id": "dxeADkyd3Gml"
      }
    },
    {
      "cell_type": "code",
      "source": [
        "history=lstm.fit(X_train, y_train, epochs=100, batch_size=8, verbose=1, shuffle=False)"
      ],
      "metadata": {
        "colab": {
          "base_uri": "https://localhost:8080/"
        },
        "id": "yJJ17aDE0RWG",
        "outputId": "a1151f23-64b7-4c13-eb61-5f6e1bcc9f77"
      },
      "execution_count": 54,
      "outputs": [
        {
          "output_type": "stream",
          "name": "stdout",
          "text": [
            "Epoch 1/100\n",
            "603/603 [==============================] - 2s 2ms/step - loss: 2573163.5000\n",
            "Epoch 2/100\n",
            "603/603 [==============================] - 1s 2ms/step - loss: 2517911.7500\n",
            "Epoch 3/100\n",
            "603/603 [==============================] - 1s 2ms/step - loss: 2441541.0000\n",
            "Epoch 4/100\n",
            "603/603 [==============================] - 1s 2ms/step - loss: 2346246.2500\n",
            "Epoch 5/100\n",
            "603/603 [==============================] - 1s 2ms/step - loss: 2236086.2500\n",
            "Epoch 6/100\n",
            "603/603 [==============================] - 1s 2ms/step - loss: 2115184.7500\n",
            "Epoch 7/100\n",
            "603/603 [==============================] - 1s 1ms/step - loss: 1987085.3750\n",
            "Epoch 8/100\n",
            "603/603 [==============================] - 1s 1ms/step - loss: 1854816.1250\n",
            "Epoch 9/100\n",
            "603/603 [==============================] - 1s 1ms/step - loss: 1721035.6250\n",
            "Epoch 10/100\n",
            "603/603 [==============================] - 1s 1ms/step - loss: 1588097.0000\n",
            "Epoch 11/100\n",
            "603/603 [==============================] - 1s 1ms/step - loss: 1458094.7500\n",
            "Epoch 12/100\n",
            "603/603 [==============================] - 1s 1ms/step - loss: 1332868.5000\n",
            "Epoch 13/100\n",
            "603/603 [==============================] - 1s 1ms/step - loss: 1213991.8750\n",
            "Epoch 14/100\n",
            "603/603 [==============================] - 1s 1ms/step - loss: 1102751.2500\n",
            "Epoch 15/100\n",
            "603/603 [==============================] - 1s 1ms/step - loss: 1000105.3750\n",
            "Epoch 16/100\n",
            "603/603 [==============================] - 1s 1ms/step - loss: 906640.8750\n",
            "Epoch 17/100\n",
            "603/603 [==============================] - 1s 1ms/step - loss: 822509.8750\n",
            "Epoch 18/100\n",
            "603/603 [==============================] - 1s 1ms/step - loss: 747346.6250\n",
            "Epoch 19/100\n",
            "603/603 [==============================] - 1s 2ms/step - loss: 680132.6875\n",
            "Epoch 20/100\n",
            "603/603 [==============================] - 1s 2ms/step - loss: 618949.9375\n",
            "Epoch 21/100\n",
            "603/603 [==============================] - 1s 2ms/step - loss: 560777.3750\n",
            "Epoch 22/100\n",
            "603/603 [==============================] - 1s 1ms/step - loss: 501979.7500\n",
            "Epoch 23/100\n",
            "603/603 [==============================] - 1s 1ms/step - loss: 440480.0938\n",
            "Epoch 24/100\n",
            "603/603 [==============================] - 1s 1ms/step - loss: 378221.2812\n",
            "Epoch 25/100\n",
            "603/603 [==============================] - 1s 1ms/step - loss: 319475.5625\n",
            "Epoch 26/100\n",
            "603/603 [==============================] - 1s 1ms/step - loss: 266815.6875\n",
            "Epoch 27/100\n",
            "603/603 [==============================] - 1s 1ms/step - loss: 220581.7500\n",
            "Epoch 28/100\n",
            "603/603 [==============================] - 1s 1ms/step - loss: 180351.5156\n",
            "Epoch 29/100\n",
            "603/603 [==============================] - 1s 1ms/step - loss: 145651.2031\n",
            "Epoch 30/100\n",
            "603/603 [==============================] - 1s 1ms/step - loss: 116048.1094\n",
            "Epoch 31/100\n",
            "603/603 [==============================] - 1s 1ms/step - loss: 91127.9375\n",
            "Epoch 32/100\n",
            "603/603 [==============================] - 1s 1ms/step - loss: 70486.0547\n",
            "Epoch 33/100\n",
            "603/603 [==============================] - 1s 2ms/step - loss: 53720.1406\n",
            "Epoch 34/100\n",
            "603/603 [==============================] - 1s 2ms/step - loss: 40417.8828\n",
            "Epoch 35/100\n",
            "603/603 [==============================] - 1s 2ms/step - loss: 30140.8828\n",
            "Epoch 36/100\n",
            "603/603 [==============================] - 1s 1ms/step - loss: 22421.5215\n",
            "Epoch 37/100\n",
            "603/603 [==============================] - 1s 1ms/step - loss: 16776.1367\n",
            "Epoch 38/100\n",
            "603/603 [==============================] - 1s 1ms/step - loss: 12735.4287\n",
            "Epoch 39/100\n",
            "603/603 [==============================] - 1s 1ms/step - loss: 9880.1914\n",
            "Epoch 40/100\n",
            "603/603 [==============================] - 1s 1ms/step - loss: 7869.1831\n",
            "Epoch 41/100\n",
            "603/603 [==============================] - 1s 1ms/step - loss: 6448.8018\n",
            "Epoch 42/100\n",
            "603/603 [==============================] - 1s 1ms/step - loss: 5442.3799\n",
            "Epoch 43/100\n",
            "603/603 [==============================] - 1s 1ms/step - loss: 4729.3486\n",
            "Epoch 44/100\n",
            "603/603 [==============================] - 1s 1ms/step - loss: 4225.0708\n",
            "Epoch 45/100\n",
            "603/603 [==============================] - 1s 1ms/step - loss: 3867.4805\n",
            "Epoch 46/100\n",
            "603/603 [==============================] - 1s 1ms/step - loss: 3609.2969\n",
            "Epoch 47/100\n",
            "603/603 [==============================] - 1s 2ms/step - loss: 3413.9263\n",
            "Epoch 48/100\n",
            "603/603 [==============================] - 1s 2ms/step - loss: 3253.4531\n",
            "Epoch 49/100\n",
            "603/603 [==============================] - 1s 2ms/step - loss: 3107.3826\n",
            "Epoch 50/100\n",
            "603/603 [==============================] - 1s 1ms/step - loss: 2961.7087\n",
            "Epoch 51/100\n",
            "603/603 [==============================] - 1s 1ms/step - loss: 2807.9509\n",
            "Epoch 52/100\n",
            "603/603 [==============================] - 1s 1ms/step - loss: 2642.2246\n",
            "Epoch 53/100\n",
            "603/603 [==============================] - 1s 1ms/step - loss: 2464.1799\n",
            "Epoch 54/100\n",
            "603/603 [==============================] - 1s 2ms/step - loss: 2276.0835\n",
            "Epoch 55/100\n",
            "603/603 [==============================] - 1s 1ms/step - loss: 2081.8792\n",
            "Epoch 56/100\n",
            "603/603 [==============================] - 1s 1ms/step - loss: 1886.3231\n",
            "Epoch 57/100\n",
            "603/603 [==============================] - 1s 1ms/step - loss: 1694.2975\n",
            "Epoch 58/100\n",
            "603/603 [==============================] - 1s 1ms/step - loss: 1510.2222\n",
            "Epoch 59/100\n",
            "603/603 [==============================] - 1s 1ms/step - loss: 1337.6221\n",
            "Epoch 60/100\n",
            "603/603 [==============================] - 1s 1ms/step - loss: 1178.8849\n",
            "Epoch 61/100\n",
            "603/603 [==============================] - 1s 1ms/step - loss: 1035.2346\n",
            "Epoch 62/100\n",
            "603/603 [==============================] - 1s 2ms/step - loss: 906.9610\n",
            "Epoch 63/100\n",
            "603/603 [==============================] - 1s 2ms/step - loss: 793.8134\n",
            "Epoch 64/100\n",
            "603/603 [==============================] - 1s 2ms/step - loss: 695.2709\n",
            "Epoch 65/100\n",
            "603/603 [==============================] - 1s 1ms/step - loss: 610.5745\n",
            "Epoch 66/100\n",
            "603/603 [==============================] - 1s 1ms/step - loss: 538.6053\n",
            "Epoch 67/100\n",
            "603/603 [==============================] - 1s 1ms/step - loss: 477.8825\n",
            "Epoch 68/100\n",
            "603/603 [==============================] - 1s 1ms/step - loss: 426.8303\n",
            "Epoch 69/100\n",
            "603/603 [==============================] - 1s 1ms/step - loss: 384.0470\n",
            "Epoch 70/100\n",
            "603/603 [==============================] - 1s 1ms/step - loss: 348.3576\n",
            "Epoch 71/100\n",
            "603/603 [==============================] - 1s 1ms/step - loss: 318.8136\n",
            "Epoch 72/100\n",
            "603/603 [==============================] - 1s 1ms/step - loss: 294.6315\n",
            "Epoch 73/100\n",
            "603/603 [==============================] - 1s 1ms/step - loss: 275.0813\n",
            "Epoch 74/100\n",
            "603/603 [==============================] - 1s 1ms/step - loss: 259.4345\n",
            "Epoch 75/100\n",
            "603/603 [==============================] - 1s 1ms/step - loss: 246.9881\n",
            "Epoch 76/100\n",
            "603/603 [==============================] - 1s 2ms/step - loss: 237.1021\n",
            "Epoch 77/100\n",
            "603/603 [==============================] - 1s 2ms/step - loss: 229.2244\n",
            "Epoch 78/100\n",
            "603/603 [==============================] - 1s 2ms/step - loss: 222.8980\n",
            "Epoch 79/100\n",
            "603/603 [==============================] - 1s 1ms/step - loss: 217.7536\n",
            "Epoch 80/100\n",
            "603/603 [==============================] - 1s 1ms/step - loss: 213.5056\n",
            "Epoch 81/100\n",
            "603/603 [==============================] - 1s 1ms/step - loss: 209.9347\n",
            "Epoch 82/100\n",
            "603/603 [==============================] - 1s 1ms/step - loss: 206.8766\n",
            "Epoch 83/100\n",
            "603/603 [==============================] - 1s 1ms/step - loss: 204.2087\n",
            "Epoch 84/100\n",
            "603/603 [==============================] - 1s 1ms/step - loss: 201.8392\n",
            "Epoch 85/100\n",
            "603/603 [==============================] - 1s 1ms/step - loss: 199.6997\n",
            "Epoch 86/100\n",
            "603/603 [==============================] - 1s 1ms/step - loss: 197.7388\n",
            "Epoch 87/100\n",
            "603/603 [==============================] - 1s 1ms/step - loss: 195.9179\n",
            "Epoch 88/100\n",
            "603/603 [==============================] - 1s 1ms/step - loss: 194.2078\n",
            "Epoch 89/100\n",
            "603/603 [==============================] - 1s 1ms/step - loss: 192.5858\n",
            "Epoch 90/100\n",
            "603/603 [==============================] - 1s 1ms/step - loss: 191.0341\n",
            "Epoch 91/100\n",
            "603/603 [==============================] - 1s 2ms/step - loss: 189.5397\n",
            "Epoch 92/100\n",
            "603/603 [==============================] - 1s 2ms/step - loss: 188.0915\n",
            "Epoch 93/100\n",
            "603/603 [==============================] - 1s 2ms/step - loss: 186.6812\n",
            "Epoch 94/100\n",
            "603/603 [==============================] - 1s 1ms/step - loss: 185.3026\n",
            "Epoch 95/100\n",
            "603/603 [==============================] - 1s 1ms/step - loss: 183.9500\n",
            "Epoch 96/100\n",
            "603/603 [==============================] - 1s 1ms/step - loss: 182.6194\n",
            "Epoch 97/100\n",
            "603/603 [==============================] - 1s 1ms/step - loss: 181.3076\n",
            "Epoch 98/100\n",
            "603/603 [==============================] - 1s 1ms/step - loss: 180.0113\n",
            "Epoch 99/100\n",
            "603/603 [==============================] - 1s 1ms/step - loss: 178.7296\n",
            "Epoch 100/100\n",
            "603/603 [==============================] - 1s 1ms/step - loss: 177.4600\n"
          ]
        }
      ]
    },
    {
      "cell_type": "markdown",
      "source": [
        "\n",
        "\n",
        "---\n",
        "\n",
        "\n",
        "## **9. LSTM Prediction**\n",
        "\n",
        "---\n",
        "\n"
      ],
      "metadata": {
        "id": "TAtimdrS3bYk"
      }
    },
    {
      "cell_type": "code",
      "source": [
        "y_pred= lstm.predict(X_test)"
      ],
      "metadata": {
        "colab": {
          "base_uri": "https://localhost:8080/"
        },
        "id": "5PF8xON900yF",
        "outputId": "e1571998-7734-42fc-db80-f1e7a0b59d49"
      },
      "execution_count": 55,
      "outputs": [
        {
          "output_type": "stream",
          "name": "stdout",
          "text": [
            "16/16 [==============================] - 0s 2ms/step\n"
          ]
        }
      ]
    },
    {
      "cell_type": "markdown",
      "source": [
        "\n",
        "\n",
        "---\n",
        "\n",
        "\n",
        "## **10. Comparing Predicted vs True Adjusted Close Value – LSTM**\n",
        "\n",
        "---\n",
        "\n"
      ],
      "metadata": {
        "id": "q7Hi0k9I3gSe"
      }
    },
    {
      "cell_type": "code",
      "source": [
        "#Predicted vs True Adj Close Value – LSTM\n",
        "import matplotlib.pyplot as plt\n",
        "plt.plot(y_test, label='True Value')\n",
        "plt.plot(y_pred, label='LSTM Value')\n",
        "plt.title('Prediction by LSTM')\n",
        "plt.xlabel('Time Scale')\n",
        "plt.ylabel('Scaled USD')\n",
        "plt.legend()\n",
        "plt.show()"
      ],
      "metadata": {
        "colab": {
          "base_uri": "https://localhost:8080/",
          "height": 472
        },
        "id": "uzgUzHSG07-r",
        "outputId": "469f169e-2491-42f4-e80c-4baf559b899c"
      },
      "execution_count": 42,
      "outputs": [
        {
          "output_type": "display_data",
          "data": {
            "text/plain": [
              "<Figure size 640x480 with 1 Axes>"
            ],
            "image/png": "[encoded data removed]"
          },
          "metadata": {}
        }
      ]
    },
    {
      "cell_type": "markdown",
      "source": [
        "\n",
        "\n",
        "* Blue indicates the True value.\n",
        "* Orange indicates the LSTM value.\n",
        "\n",
        "\n",
        "\n"
      ],
      "metadata": {
        "id": "4C7zivAD34ja"
      }
    },
    {
      "cell_type": "markdown",
      "source": [
        "\n",
        "\n",
        "---\n",
        "\n",
        "\n",
        "## **11.Conclusion**\n",
        "\n",
        "---\n",
        "\n"
      ],
      "metadata": {
        "id": "cYKsNOFZ4i8-"
      }
    },
    {
      "cell_type": "markdown",
      "source": [
        ">Finally, we have successfully built a Stock Market Prediction and Forecasting Using Stacked LSTM."
      ],
      "metadata": {
        "id": "11UOIaO546e-"
      }
    },
    {
      "cell_type": "markdown",
      "source": [
        "# ***THANK YOU...***"
      ],
      "metadata": {
        "id": "JQZhq53y5FRq"
      }
    }
  ]
}